{
  "nbformat": 4,
  "nbformat_minor": 0,
  "metadata": {
    "colab": {
      "name": "Multinomial Naive Bayes.ipynb",
      "provenance": [],
      "collapsed_sections": [],
      "authorship_tag": "ABX9TyNWMDBj1SrLi6v4eN6DUPHa",
      "include_colab_link": true
    },
    "kernelspec": {
      "name": "python3",
      "display_name": "Python 3"
    },
    "language_info": {
      "name": "python"
    }
  },
  "cells": [
    {
      "cell_type": "markdown",
      "metadata": {
        "id": "view-in-github",
        "colab_type": "text"
      },
      "source": [
        "<a href=\"https://colab.research.google.com/github/joereuben/language-identification/blob/main/Multinomial_Naive_Bayes.ipynb\" target=\"_parent\"><img src=\"https://colab.research.google.com/assets/colab-badge.svg\" alt=\"Open In Colab\"/></a>"
      ]
    },
    {
      "cell_type": "code",
      "execution_count": 25,
      "metadata": {
        "id": "pmqg81kZKrHv"
      },
      "outputs": [],
      "source": [
        "import numpy as np\n",
        "import pandas as pd\n",
        "import matplotlib.pyplot as plt\n",
        "from sklearn.model_selection import train_test_split\n",
        "from sklearn.pipeline import Pipeline\n",
        "from sklearn.naive_bayes import MultinomialNB\n",
        "from sklearn.feature_extraction.text import CountVectorizer\n",
        "from sklearn.metrics import confusion_matrix,classification_report"
      ]
    },
    {
      "cell_type": "code",
      "source": [
        "def file2sentences(filename):\n",
        "   \n",
        "   txt = \"\"\n",
        "   with open(filename,\"r\",encoding=\"utf-8\") as f:\n",
        "      txt = f.read()\n",
        " \n",
        "   txt = txt.replace(\"?\",\".\")\n",
        "   txt = txt.replace(\"!\",\".\")\n",
        "   txt = txt.replace(\"»\",\"\")\n",
        "   txt = txt.replace(\"«\",\"\")\n",
        "   txt = txt.replace(\":\",\"\")\n",
        "   txt = txt.replace(\";\",\"\")\n",
        "   txt = txt.replace(\"...\",\".\")\n",
        "   txt = txt.replace(\"…\",\".\")\n",
        "   txt = txt.replace(\"\\n\",\".\")\n",
        "   txt = txt.replace(\"  \",\" \")\n",
        "   txt = txt.replace(\"\\\"\",\"\")\n",
        "   txt = txt.replace(\"„\",\"\")\n",
        "   sentences = txt.split(\".\")\n",
        "   for i in range(len(sentences)):\n",
        "      sentences[i] = sentences[i].strip()\n",
        "      \n",
        "   sentences = [x for x in sentences if x != \"\"]\n",
        "   return sentences"
      ],
      "metadata": {
        "id": "mJyDzeIZLF3C"
      },
      "execution_count": 26,
      "outputs": []
    },
    {
      "cell_type": "code",
      "source": [
        "italian = file2sentences(\"il fratello maggiore sta guardando.txt\")\n",
        "english = file2sentences(\"big brother is watching.txt\")\n",
        "german = file2sentences(\"großer bruder schaut zu.txt\")\n",
        "portuguese = file2sentences(\"irmão mais velho está assistindo.txt\")\n",
        "\n",
        "X = np.array(italian + english + german + portuguese)\n",
        "y = np.array(['it']*len(italian) + ['en']*len(english) + ['de']*len(german) + ['pt']*len(portuguese))\n"
      ],
      "metadata": {
        "id": "NYF_58jQLSOl"
      },
      "execution_count": 27,
      "outputs": []
    },
    {
      "cell_type": "code",
      "source": [
        "X_train, X_test, y_train, y_test = train_test_split(X, y, test_size=0.33, random_state=42)"
      ],
      "metadata": {
        "id": "0y7qn1h0Lg4_"
      },
      "execution_count": 28,
      "outputs": []
    },
    {
      "cell_type": "code",
      "source": [
        "cnt = CountVectorizer(analyzer = 'char',ngram_range=(2,2))\n",
        "\n",
        "pipeline = Pipeline([\n",
        "   ('vectorizer',cnt),  \n",
        "   ('model',MultinomialNB())\n",
        "])"
      ],
      "metadata": {
        "id": "uBnUqQ-HLi-G"
      },
      "execution_count": 29,
      "outputs": []
    },
    {
      "cell_type": "code",
      "source": [
        "pipeline.fit(X_train,y_train)\n",
        "y_pred = pipeline.predict(X_test)"
      ],
      "metadata": {
        "id": "AxYh9e7iLlIJ"
      },
      "execution_count": 30,
      "outputs": []
    },
    {
      "cell_type": "code",
      "source": [
        "confusion_matrix(y_test, y_pred)"
      ],
      "metadata": {
        "colab": {
          "base_uri": "https://localhost:8080/"
        },
        "id": "x7Et7VKWYLiz",
        "outputId": "ac24c739-d222-4a22-8c87-d687620b7aae"
      },
      "execution_count": 31,
      "outputs": [
        {
          "output_type": "execute_result",
          "data": {
            "text/plain": [
              "array([[ 8,  0,  0],\n",
              "       [ 0, 11,  0],\n",
              "       [ 0,  0,  8]])"
            ]
          },
          "metadata": {},
          "execution_count": 31
        }
      ]
    },
    {
      "cell_type": "code",
      "source": [
        "print(classification_report(y_test, y_pred))"
      ],
      "metadata": {
        "colab": {
          "base_uri": "https://localhost:8080/"
        },
        "id": "XA-poKX2YZ2r",
        "outputId": "7f7ef680-143b-4d5c-b008-1635624a5884"
      },
      "execution_count": 32,
      "outputs": [
        {
          "output_type": "stream",
          "name": "stdout",
          "text": [
            "              precision    recall  f1-score   support\n",
            "\n",
            "          de       1.00      1.00      1.00         8\n",
            "          en       1.00      1.00      1.00        11\n",
            "          it       1.00      1.00      1.00         8\n",
            "\n",
            "    accuracy                           1.00        27\n",
            "   macro avg       1.00      1.00      1.00        27\n",
            "weighted avg       1.00      1.00      1.00        27\n",
            "\n"
          ]
        }
      ]
    },
    {
      "cell_type": "code",
      "source": [
        "languages = {\"en\":\"English\", \"it\":\"Italian\", \"de\":\"German\", \"pt\":\"Portuguese\"}"
      ],
      "metadata": {
        "id": "qwEpeUONwCbJ"
      },
      "execution_count": 37,
      "outputs": []
    },
    {
      "cell_type": "code",
      "source": [
        "lang = pipeline.predict([\"\"\"Braverman lived in France for two years, as an Erasmus \n",
        "Programme student and then as an Entente Cordiale Scholar, where she completed \n",
        "a master's degree in European and French law at Panthéon-Sorbonne University. \"\"\"])\n",
        "\n",
        "print(\"This text is in\", languages[lang[0]])"
      ],
      "metadata": {
        "colab": {
          "base_uri": "https://localhost:8080/"
        },
        "id": "hCntCAbFZTfE",
        "outputId": "6251a3f6-2580-4ff9-d203-782f553c877b"
      },
      "execution_count": 34,
      "outputs": [
        {
          "output_type": "stream",
          "name": "stdout",
          "text": [
            "This text is in English\n"
          ]
        }
      ]
    },
    {
      "cell_type": "code",
      "source": [
        "lang = pipeline.predict([\"Braverman lebte zwei Jahre in Frankreich, als Studentin im Erasmus-Programm und dann als Stipendiatin der Entente Cordiale, wo sie einen Master-Abschluss in europäischem und französischem Recht an der Universität Panthéon-Sorbonne absolvierte\"])\n",
        "print(\"This text is in\", languages[lang[0]])"
      ],
      "metadata": {
        "colab": {
          "base_uri": "https://localhost:8080/"
        },
        "id": "GhiAfgQ8aT-A",
        "outputId": "89e11858-3f0d-406a-ac41-74993ae3bcc7"
      },
      "execution_count": 35,
      "outputs": [
        {
          "output_type": "stream",
          "name": "stdout",
          "text": [
            "This text is in German\n"
          ]
        }
      ]
    },
    {
      "cell_type": "code",
      "source": [
        "lang = pipeline.predict([\"Braverman morou na França por dois anos, como aluna do Programa Erasmus e depois como Entente Cordiale Scholar, onde completou um mestrado em direito europeu e francês na Universidade Panthéon-Sorbonne\"])\n",
        "print(\"This text is in\", languages[lang[0]])"
      ],
      "metadata": {
        "colab": {
          "base_uri": "https://localhost:8080/"
        },
        "outputId": "3817e246-6f44-44c5-b01c-9430480e2109",
        "id": "wf90jdLn4xTk"
      },
      "execution_count": 38,
      "outputs": [
        {
          "output_type": "stream",
          "name": "stdout",
          "text": [
            "This text is in Portuguese\n"
          ]
        }
      ]
    }
  ]
}